{
 "cells": [
  {
   "cell_type": "markdown",
   "id": "af627062",
   "metadata": {},
   "source": [
    "# Modelling exercise\n",
    "\n",
    "This is the third part of the Data Science hiring assessment. The assessment further develops the business question from the first interview. \n",
    "\n",
    "The goal is to forecast demand for a given product(SKU)-Supermarket combination"
   ]
  },
  {
   "cell_type": "markdown",
   "id": "59aeabd1",
   "metadata": {},
   "source": [
    "### Load basic packages\n"
   ]
  },
  {
   "cell_type": "code",
   "execution_count": 7,
   "id": "c783ae9b",
   "metadata": {},
   "outputs": [],
   "source": [
    "%matplotlib inline\n",
    "\n",
    "import pandas as pd\n",
    "import numpy as np\n",
    "import matplotlib.pyplot as plt\n",
    "\n",
    "from utils import read_demand, read_promotions"
   ]
  },
  {
   "cell_type": "markdown",
   "id": "2e61f7ae",
   "metadata": {},
   "source": [
    "### Import Data\n"
   ]
  },
  {
   "cell_type": "code",
   "execution_count": 8,
   "id": "3a6307b1",
   "metadata": {},
   "outputs": [
    {
     "data": {
      "text/html": [
       "<div>\n",
       "<style scoped>\n",
       "    .dataframe tbody tr th:only-of-type {\n",
       "        vertical-align: middle;\n",
       "    }\n",
       "\n",
       "    .dataframe tbody tr th {\n",
       "        vertical-align: top;\n",
       "    }\n",
       "\n",
       "    .dataframe thead th {\n",
       "        text-align: right;\n",
       "    }\n",
       "</style>\n",
       "<table border=\"1\" class=\"dataframe\">\n",
       "  <thead>\n",
       "    <tr style=\"text-align: right;\">\n",
       "      <th></th>\n",
       "      <th>demand</th>\n",
       "      <th>sku</th>\n",
       "      <th>supermarket</th>\n",
       "    </tr>\n",
       "    <tr>\n",
       "      <th>date</th>\n",
       "      <th></th>\n",
       "      <th></th>\n",
       "      <th></th>\n",
       "    </tr>\n",
       "  </thead>\n",
       "  <tbody>\n",
       "    <tr>\n",
       "      <th>2019-01-01</th>\n",
       "      <td>93.0</td>\n",
       "      <td>desperados</td>\n",
       "      <td>albert-heijn</td>\n",
       "    </tr>\n",
       "    <tr>\n",
       "      <th>2019-01-02</th>\n",
       "      <td>93.0</td>\n",
       "      <td>desperados</td>\n",
       "      <td>albert-heijn</td>\n",
       "    </tr>\n",
       "  </tbody>\n",
       "</table>\n",
       "</div>"
      ],
      "text/plain": [
       "            demand         sku   supermarket\n",
       "date                                        \n",
       "2019-01-01    93.0  desperados  albert-heijn\n",
       "2019-01-02    93.0  desperados  albert-heijn"
      ]
     },
     "execution_count": 8,
     "metadata": {},
     "output_type": "execute_result"
    }
   ],
   "source": [
    "# Demand data\n",
    "demand = read_demand(\"./demand.csv\")\n",
    "demand.head(2)"
   ]
  },
  {
   "cell_type": "code",
   "execution_count": 9,
   "id": "142ffabf",
   "metadata": {},
   "outputs": [
    {
     "data": {
      "text/html": [
       "<div>\n",
       "<style scoped>\n",
       "    .dataframe tbody tr th:only-of-type {\n",
       "        vertical-align: middle;\n",
       "    }\n",
       "\n",
       "    .dataframe tbody tr th {\n",
       "        vertical-align: top;\n",
       "    }\n",
       "\n",
       "    .dataframe thead th {\n",
       "        text-align: right;\n",
       "    }\n",
       "</style>\n",
       "<table border=\"1\" class=\"dataframe\">\n",
       "  <thead>\n",
       "    <tr style=\"text-align: right;\">\n",
       "      <th></th>\n",
       "      <th>sku</th>\n",
       "      <th>supermarket</th>\n",
       "    </tr>\n",
       "    <tr>\n",
       "      <th>promotion_date</th>\n",
       "      <th></th>\n",
       "      <th></th>\n",
       "    </tr>\n",
       "  </thead>\n",
       "  <tbody>\n",
       "    <tr>\n",
       "      <th>2020-09-26</th>\n",
       "      <td>desperados</td>\n",
       "      <td>jumbo</td>\n",
       "    </tr>\n",
       "    <tr>\n",
       "      <th>2019-09-18</th>\n",
       "      <td>desperados</td>\n",
       "      <td>jumbo</td>\n",
       "    </tr>\n",
       "  </tbody>\n",
       "</table>\n",
       "</div>"
      ],
      "text/plain": [
       "                       sku supermarket\n",
       "promotion_date                        \n",
       "2020-09-26      desperados       jumbo\n",
       "2019-09-18      desperados       jumbo"
      ]
     },
     "execution_count": 9,
     "metadata": {},
     "output_type": "execute_result"
    }
   ],
   "source": [
    "# promotion data\n",
    "promotions = read_promotions( \"./promotions.csv\")\n",
    "promotions.head(2)"
   ]
  },
  {
   "cell_type": "markdown",
   "id": "a0c1c3bc",
   "metadata": {},
   "source": [
    "# Prepare the data for modelling\n",
    "\n",
    "Cleans the demand, merges with the promotion data, and aggregates to weekly data"
   ]
  },
  {
   "cell_type": "code",
   "execution_count": 10,
   "id": "45473d04",
   "metadata": {},
   "outputs": [
    {
     "data": {
      "text/html": [
       "<div>\n",
       "<style scoped>\n",
       "    .dataframe tbody tr th:only-of-type {\n",
       "        vertical-align: middle;\n",
       "    }\n",
       "\n",
       "    .dataframe tbody tr th {\n",
       "        vertical-align: top;\n",
       "    }\n",
       "\n",
       "    .dataframe thead th {\n",
       "        text-align: right;\n",
       "    }\n",
       "</style>\n",
       "<table border=\"1\" class=\"dataframe\">\n",
       "  <thead>\n",
       "    <tr style=\"text-align: right;\">\n",
       "      <th></th>\n",
       "      <th>sku</th>\n",
       "      <th>supermarket</th>\n",
       "      <th>demand</th>\n",
       "      <th>promotion</th>\n",
       "    </tr>\n",
       "    <tr>\n",
       "      <th>date</th>\n",
       "      <th></th>\n",
       "      <th></th>\n",
       "      <th></th>\n",
       "      <th></th>\n",
       "    </tr>\n",
       "  </thead>\n",
       "  <tbody>\n",
       "    <tr>\n",
       "      <th>2019-01-06</th>\n",
       "      <td>desperados</td>\n",
       "      <td>albert-heijn</td>\n",
       "      <td>554.0</td>\n",
       "      <td>False</td>\n",
       "    </tr>\n",
       "    <tr>\n",
       "      <th>2019-01-13</th>\n",
       "      <td>desperados</td>\n",
       "      <td>albert-heijn</td>\n",
       "      <td>635.0</td>\n",
       "      <td>False</td>\n",
       "    </tr>\n",
       "    <tr>\n",
       "      <th>2019-01-20</th>\n",
       "      <td>desperados</td>\n",
       "      <td>albert-heijn</td>\n",
       "      <td>637.0</td>\n",
       "      <td>False</td>\n",
       "    </tr>\n",
       "    <tr>\n",
       "      <th>2019-01-27</th>\n",
       "      <td>desperados</td>\n",
       "      <td>albert-heijn</td>\n",
       "      <td>636.0</td>\n",
       "      <td>False</td>\n",
       "    </tr>\n",
       "    <tr>\n",
       "      <th>2019-02-03</th>\n",
       "      <td>desperados</td>\n",
       "      <td>albert-heijn</td>\n",
       "      <td>1013.0</td>\n",
       "      <td>False</td>\n",
       "    </tr>\n",
       "    <tr>\n",
       "      <th>2019-02-10</th>\n",
       "      <td>desperados</td>\n",
       "      <td>albert-heijn</td>\n",
       "      <td>644.0</td>\n",
       "      <td>False</td>\n",
       "    </tr>\n",
       "    <tr>\n",
       "      <th>2019-02-17</th>\n",
       "      <td>desperados</td>\n",
       "      <td>albert-heijn</td>\n",
       "      <td>635.0</td>\n",
       "      <td>False</td>\n",
       "    </tr>\n",
       "    <tr>\n",
       "      <th>2019-02-24</th>\n",
       "      <td>desperados</td>\n",
       "      <td>albert-heijn</td>\n",
       "      <td>637.0</td>\n",
       "      <td>False</td>\n",
       "    </tr>\n",
       "    <tr>\n",
       "      <th>2019-03-03</th>\n",
       "      <td>desperados</td>\n",
       "      <td>albert-heijn</td>\n",
       "      <td>644.0</td>\n",
       "      <td>False</td>\n",
       "    </tr>\n",
       "    <tr>\n",
       "      <th>2019-03-10</th>\n",
       "      <td>desperados</td>\n",
       "      <td>albert-heijn</td>\n",
       "      <td>638.0</td>\n",
       "      <td>False</td>\n",
       "    </tr>\n",
       "  </tbody>\n",
       "</table>\n",
       "</div>"
      ],
      "text/plain": [
       "                   sku   supermarket  demand  promotion\n",
       "date                                                   \n",
       "2019-01-06  desperados  albert-heijn   554.0      False\n",
       "2019-01-13  desperados  albert-heijn   635.0      False\n",
       "2019-01-20  desperados  albert-heijn   637.0      False\n",
       "2019-01-27  desperados  albert-heijn   636.0      False\n",
       "2019-02-03  desperados  albert-heijn  1013.0      False\n",
       "2019-02-10  desperados  albert-heijn   644.0      False\n",
       "2019-02-17  desperados  albert-heijn   635.0      False\n",
       "2019-02-24  desperados  albert-heijn   637.0      False\n",
       "2019-03-03  desperados  albert-heijn   644.0      False\n",
       "2019-03-10  desperados  albert-heijn   638.0      False"
      ]
     },
     "execution_count": 10,
     "metadata": {},
     "output_type": "execute_result"
    }
   ],
   "source": [
    "\n",
    "from utils import merge, clean_demand_per_group, aggregate_to_weekly, extend_promotions_days\n",
    "\n",
    "def prepare_data(demand, promotions):\n",
    "    cleaned_demand = clean_demand_per_group(demand)\n",
    "    extended_promotions = extend_promotions_days(promotions, 7)\n",
    "    daily = merge(cleaned_demand, extended_promotions)\n",
    "    weekly = aggregate_to_weekly(daily)\n",
    "    return weekly\n",
    "\n",
    "df = prepare_data(demand, promotions)\n",
    "df.head(10)"
   ]
  },
  {
   "cell_type": "markdown",
   "id": "80c6ee87",
   "metadata": {},
   "source": [
    "## Steps to take"
   ]
  },
  {
   "cell_type": "markdown",
   "id": "b4a70093",
   "metadata": {},
   "source": [
    "General guideline to tackle the exercise, this is just for your reference, add/subtract as you think would be best for the problem\n",
    "\n",
    "- Feature engineering and data preparation for modelling\n",
    "    - Prepare the data for modelling and create new features if possible. \n",
    "- Create a model\n",
    "    - The business wants to predict the demand for each SKU per supermarket eight weeks in advance. \n",
    "    - You are free to choose any kind of model that you like and think would fit best for the exercise. No need to focus on optimizing the error metric with an advanced model\n",
    "    - Your model should be able to predict the demand for each SKU and supermarket eight weeks in advance\n",
    "    - What is the impact of different features/variables on the demand?    \n",
    "- Evaluation\n",
    "    - Feel free again to choose any metric that you think fits best to the given problem\n",
    "    - We would like to understand why you have chosen a particular metric and the process of validation and evaluation of the model. It would also be good if you can tie this up with how the business would evaluate the solution and what kind of impact it can have on the existing process    \n",
    "    "
   ]
  },
  {
   "cell_type": "code",
   "execution_count": null,
   "id": "bd4853e8",
   "metadata": {},
   "outputs": [],
   "source": []
  }
 ],
 "metadata": {
  "interpreter": {
   "hash": "93a30adc08ff87593bb4700c2a194ce76ff669e61111b15c5053e5c69981c152"
  },
  "kernelspec": {
   "display_name": "ironman",
   "language": "python",
   "name": "ironman"
  },
  "language_info": {
   "codemirror_mode": {
    "name": "ipython",
    "version": 3
   },
   "file_extension": ".py",
   "mimetype": "text/x-python",
   "name": "python",
   "nbconvert_exporter": "python",
   "pygments_lexer": "ipython3",
   "version": "3.8.0"
  }
 },
 "nbformat": 4,
 "nbformat_minor": 5
}
