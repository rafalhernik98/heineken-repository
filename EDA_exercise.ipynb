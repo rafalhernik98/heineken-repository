{
 "cells": [
  {
   "cell_type": "markdown",
   "id": "61af0cd2",
   "metadata": {
    "papermill": {
     "duration": 0.108006,
     "end_time": "2022-03-03T10:16:04.897972",
     "exception": false,
     "start_time": "2022-03-03T10:16:04.789966",
     "status": "completed"
    },
    "tags": []
   },
   "source": [
    "# Exploratory Data Analysis\n",
    "\n",
    "This is the second part of the Data Science hiring assessment. The assessment further develops the business question from the first interview. You are working on a case to forecast product demands. "
   ]
  },
  {
   "cell_type": "markdown",
   "id": "8f120f67",
   "metadata": {
    "papermill": {
     "duration": 0.085779,
     "end_time": "2022-03-03T10:16:05.132000",
     "exception": false,
     "start_time": "2022-03-03T10:16:05.046221",
     "status": "completed"
    },
    "tags": []
   },
   "source": [
    "### Load libraries\n",
    "\n",
    "We added a number of libraries that should help you get started with your exploratory data analysis. "
   ]
  },
  {
   "cell_type": "code",
   "execution_count": 2,
   "id": "094d3855",
   "metadata": {
    "execution": {
     "iopub.execute_input": "2022-03-03T10:16:05.315003Z",
     "iopub.status.busy": "2022-03-03T10:16:05.314488Z",
     "iopub.status.idle": "2022-03-03T10:16:06.352897Z",
     "shell.execute_reply": "2022-03-03T10:16:06.352304Z"
    },
    "papermill": {
     "duration": 1.120381,
     "end_time": "2022-03-03T10:16:06.353028",
     "exception": false,
     "start_time": "2022-03-03T10:16:05.232647",
     "status": "completed"
    },
    "tags": []
   },
   "outputs": [],
   "source": [
    "%matplotlib inline\n",
    "\n",
    "import pandas as pd\n",
    "import numpy as np\n",
    "import matplotlib.pyplot as plt\n",
    "\n",
    "from utils import read_demand, read_promotions, extend_promotions_days, merge"
   ]
  },
  {
   "cell_type": "markdown",
   "id": "7aed401c",
   "metadata": {
    "papermill": {
     "duration": 0.178678,
     "end_time": "2022-03-03T10:16:06.637351",
     "exception": false,
     "start_time": "2022-03-03T10:16:06.458673",
     "status": "completed"
    },
    "tags": []
   },
   "source": [
    "### Import Data\n",
    "\n",
    "We provide two generated datasets with this exercise. \n",
    "\n",
    "The first dataset **demand.csv** represents the historic demand of three different products (SKUs) in three different supermarkets in the Netherlands. Data is available on a daily basis. \n",
    "\n",
    "The second **promotions.csv**, indicates different time points in which a certain SKU was on promotion in a specific supermarket. The dataset only shows the first day of the promotion period. Overall, a product is on promotion for one week.\n",
    "\n",
    "The functions to import the data are provided as well as a function that extends the promotion data to cover the entire promotion period. "
   ]
  },
  {
   "cell_type": "code",
   "execution_count": 3,
   "id": "ed447193",
   "metadata": {
    "execution": {
     "iopub.execute_input": "2022-03-03T10:16:06.837897Z",
     "iopub.status.busy": "2022-03-03T10:16:06.837389Z",
     "iopub.status.idle": "2022-03-03T10:16:06.946751Z",
     "shell.execute_reply": "2022-03-03T10:16:06.946055Z"
    },
    "papermill": {
     "duration": 0.242482,
     "end_time": "2022-03-03T10:16:06.947029",
     "exception": false,
     "start_time": "2022-03-03T10:16:06.704547",
     "status": "completed"
    },
    "tags": []
   },
   "outputs": [
    {
     "data": {
      "text/html": [
       "<div>\n",
       "<style scoped>\n",
       "    .dataframe tbody tr th:only-of-type {\n",
       "        vertical-align: middle;\n",
       "    }\n",
       "\n",
       "    .dataframe tbody tr th {\n",
       "        vertical-align: top;\n",
       "    }\n",
       "\n",
       "    .dataframe thead th {\n",
       "        text-align: right;\n",
       "    }\n",
       "</style>\n",
       "<table border=\"1\" class=\"dataframe\">\n",
       "  <thead>\n",
       "    <tr style=\"text-align: right;\">\n",
       "      <th></th>\n",
       "      <th>demand</th>\n",
       "      <th>sku</th>\n",
       "      <th>supermarket</th>\n",
       "    </tr>\n",
       "    <tr>\n",
       "      <th>date</th>\n",
       "      <th></th>\n",
       "      <th></th>\n",
       "      <th></th>\n",
       "    </tr>\n",
       "  </thead>\n",
       "  <tbody>\n",
       "    <tr>\n",
       "      <th>2019-01-01</th>\n",
       "      <td>93.0</td>\n",
       "      <td>desperados</td>\n",
       "      <td>albert-heijn</td>\n",
       "    </tr>\n",
       "    <tr>\n",
       "      <th>2019-01-02</th>\n",
       "      <td>93.0</td>\n",
       "      <td>desperados</td>\n",
       "      <td>albert-heijn</td>\n",
       "    </tr>\n",
       "    <tr>\n",
       "      <th>2019-01-03</th>\n",
       "      <td>94.0</td>\n",
       "      <td>desperados</td>\n",
       "      <td>albert-heijn</td>\n",
       "    </tr>\n",
       "    <tr>\n",
       "      <th>2019-01-04</th>\n",
       "      <td>95.0</td>\n",
       "      <td>desperados</td>\n",
       "      <td>albert-heijn</td>\n",
       "    </tr>\n",
       "    <tr>\n",
       "      <th>2019-01-05</th>\n",
       "      <td>92.0</td>\n",
       "      <td>desperados</td>\n",
       "      <td>albert-heijn</td>\n",
       "    </tr>\n",
       "  </tbody>\n",
       "</table>\n",
       "</div>"
      ],
      "text/plain": [
       "            demand         sku   supermarket\n",
       "date                                        \n",
       "2019-01-01    93.0  desperados  albert-heijn\n",
       "2019-01-02    93.0  desperados  albert-heijn\n",
       "2019-01-03    94.0  desperados  albert-heijn\n",
       "2019-01-04    95.0  desperados  albert-heijn\n",
       "2019-01-05    92.0  desperados  albert-heijn"
      ]
     },
     "execution_count": 3,
     "metadata": {},
     "output_type": "execute_result"
    }
   ],
   "source": [
    "# Demand data\n",
    "demand = read_demand(\"./demand.csv\")\n",
    "demand.head()"
   ]
  },
  {
   "cell_type": "code",
   "execution_count": 4,
   "id": "83f8f309",
   "metadata": {
    "execution": {
     "iopub.execute_input": "2022-03-03T10:16:07.090684Z",
     "iopub.status.busy": "2022-03-03T10:16:07.090228Z",
     "iopub.status.idle": "2022-03-03T10:16:07.125225Z",
     "shell.execute_reply": "2022-03-03T10:16:07.126088Z"
    },
    "papermill": {
     "duration": 0.102378,
     "end_time": "2022-03-03T10:16:07.126477",
     "exception": false,
     "start_time": "2022-03-03T10:16:07.024099",
     "status": "completed"
    },
    "tags": []
   },
   "outputs": [
    {
     "data": {
      "text/html": [
       "<div>\n",
       "<style scoped>\n",
       "    .dataframe tbody tr th:only-of-type {\n",
       "        vertical-align: middle;\n",
       "    }\n",
       "\n",
       "    .dataframe tbody tr th {\n",
       "        vertical-align: top;\n",
       "    }\n",
       "\n",
       "    .dataframe thead th {\n",
       "        text-align: right;\n",
       "    }\n",
       "</style>\n",
       "<table border=\"1\" class=\"dataframe\">\n",
       "  <thead>\n",
       "    <tr style=\"text-align: right;\">\n",
       "      <th></th>\n",
       "      <th>sku</th>\n",
       "      <th>supermarket</th>\n",
       "    </tr>\n",
       "    <tr>\n",
       "      <th>promotion_date</th>\n",
       "      <th></th>\n",
       "      <th></th>\n",
       "    </tr>\n",
       "  </thead>\n",
       "  <tbody>\n",
       "    <tr>\n",
       "      <th>2020-09-26</th>\n",
       "      <td>desperados</td>\n",
       "      <td>jumbo</td>\n",
       "    </tr>\n",
       "    <tr>\n",
       "      <th>2019-09-18</th>\n",
       "      <td>desperados</td>\n",
       "      <td>jumbo</td>\n",
       "    </tr>\n",
       "    <tr>\n",
       "      <th>2021-09-28</th>\n",
       "      <td>desperados</td>\n",
       "      <td>jumbo</td>\n",
       "    </tr>\n",
       "    <tr>\n",
       "      <th>2021-02-11</th>\n",
       "      <td>desperados</td>\n",
       "      <td>jumbo</td>\n",
       "    </tr>\n",
       "    <tr>\n",
       "      <th>2021-10-03</th>\n",
       "      <td>desperados</td>\n",
       "      <td>dirk</td>\n",
       "    </tr>\n",
       "  </tbody>\n",
       "</table>\n",
       "</div>"
      ],
      "text/plain": [
       "                       sku supermarket\n",
       "promotion_date                        \n",
       "2020-09-26      desperados       jumbo\n",
       "2019-09-18      desperados       jumbo\n",
       "2021-09-28      desperados       jumbo\n",
       "2021-02-11      desperados       jumbo\n",
       "2021-10-03      desperados        dirk"
      ]
     },
     "execution_count": 4,
     "metadata": {},
     "output_type": "execute_result"
    }
   ],
   "source": [
    "# promotion data\n",
    "promotions = read_promotions( \"./promotions.csv\")\n",
    "promotions.head()"
   ]
  },
  {
   "cell_type": "code",
   "execution_count": 6,
   "id": "fd0af1ae",
   "metadata": {},
   "outputs": [
    {
     "data": {
      "text/html": [
       "<div>\n",
       "<style scoped>\n",
       "    .dataframe tbody tr th:only-of-type {\n",
       "        vertical-align: middle;\n",
       "    }\n",
       "\n",
       "    .dataframe tbody tr th {\n",
       "        vertical-align: top;\n",
       "    }\n",
       "\n",
       "    .dataframe thead th {\n",
       "        text-align: right;\n",
       "    }\n",
       "</style>\n",
       "<table border=\"1\" class=\"dataframe\">\n",
       "  <thead>\n",
       "    <tr style=\"text-align: right;\">\n",
       "      <th></th>\n",
       "      <th>demand</th>\n",
       "      <th>sku</th>\n",
       "      <th>supermarket</th>\n",
       "      <th>promotion</th>\n",
       "    </tr>\n",
       "    <tr>\n",
       "      <th>date</th>\n",
       "      <th></th>\n",
       "      <th></th>\n",
       "      <th></th>\n",
       "      <th></th>\n",
       "    </tr>\n",
       "  </thead>\n",
       "  <tbody>\n",
       "    <tr>\n",
       "      <th>2019-01-01</th>\n",
       "      <td>93.0</td>\n",
       "      <td>desperados</td>\n",
       "      <td>albert-heijn</td>\n",
       "      <td>False</td>\n",
       "    </tr>\n",
       "    <tr>\n",
       "      <th>2019-01-02</th>\n",
       "      <td>93.0</td>\n",
       "      <td>desperados</td>\n",
       "      <td>albert-heijn</td>\n",
       "      <td>False</td>\n",
       "    </tr>\n",
       "    <tr>\n",
       "      <th>2019-01-03</th>\n",
       "      <td>94.0</td>\n",
       "      <td>desperados</td>\n",
       "      <td>albert-heijn</td>\n",
       "      <td>False</td>\n",
       "    </tr>\n",
       "    <tr>\n",
       "      <th>2019-01-04</th>\n",
       "      <td>95.0</td>\n",
       "      <td>desperados</td>\n",
       "      <td>albert-heijn</td>\n",
       "      <td>False</td>\n",
       "    </tr>\n",
       "    <tr>\n",
       "      <th>2019-01-05</th>\n",
       "      <td>92.0</td>\n",
       "      <td>desperados</td>\n",
       "      <td>albert-heijn</td>\n",
       "      <td>False</td>\n",
       "    </tr>\n",
       "  </tbody>\n",
       "</table>\n",
       "</div>"
      ],
      "text/plain": [
       "            demand         sku   supermarket  promotion\n",
       "date                                                   \n",
       "2019-01-01    93.0  desperados  albert-heijn      False\n",
       "2019-01-02    93.0  desperados  albert-heijn      False\n",
       "2019-01-03    94.0  desperados  albert-heijn      False\n",
       "2019-01-04    95.0  desperados  albert-heijn      False\n",
       "2019-01-05    92.0  desperados  albert-heijn      False"
      ]
     },
     "execution_count": 6,
     "metadata": {},
     "output_type": "execute_result"
    }
   ],
   "source": [
    "extended_promotions = extend_promotions_days(promotions, 7).drop(\"promotion_id\", axis=1)\n",
    "df = merge(demand, extended_promotions)\n",
    "df.head()"
   ]
  },
  {
   "cell_type": "markdown",
   "id": "3aa53523",
   "metadata": {
    "papermill": {
     "duration": 0.08887,
     "end_time": "2022-03-03T10:16:07.290439",
     "exception": false,
     "start_time": "2022-03-03T10:16:07.201569",
     "status": "completed"
    },
    "tags": []
   },
   "source": [
    "### Part 1: Data quality\n",
    "The first part of the assignment is to check the quality of the data provided and clean it if necessary."
   ]
  },
  {
   "cell_type": "code",
   "execution_count": null,
   "id": "0684198a",
   "metadata": {
    "papermill": {
     "duration": 0.088954,
     "end_time": "2022-03-03T10:16:07.438023",
     "exception": false,
     "start_time": "2022-03-03T10:16:07.349069",
     "status": "completed"
    },
    "tags": []
   },
   "outputs": [],
   "source": []
  },
  {
   "cell_type": "markdown",
   "id": "256a3bcf",
   "metadata": {
    "papermill": {
     "duration": 0.063385,
     "end_time": "2022-03-03T10:16:07.570495",
     "exception": false,
     "start_time": "2022-03-03T10:16:07.507110",
     "status": "completed"
    },
    "tags": []
   },
   "source": [
    "### Part 2: Exploration\n",
    "The business wants to predict the demand for each SKU per supermarket _eight weeks in advance_. Perform any kind of explorative analysis that provides initial insights to answer this question historically. You are free to do any kind of analysis, but try to converge back to the business question at the end. \n",
    "\n",
    "Your final result should cover two main aspects:\n",
    "1. You can report back some answers about demand to the business\n",
    "2. You have initial understanding of the features that affect demand, to create a model next."
   ]
  },
  {
   "cell_type": "code",
   "execution_count": null,
   "id": "ea1fd00e",
   "metadata": {
    "papermill": {
     "duration": 0.08944,
     "end_time": "2022-03-03T10:16:07.810055",
     "exception": false,
     "start_time": "2022-03-03T10:16:07.720615",
     "status": "completed"
    },
    "tags": []
   },
   "outputs": [],
   "source": []
  }
 ],
 "metadata": {
  "interpreter": {
   "hash": "93a30adc08ff87593bb4700c2a194ce76ff669e61111b15c5053e5c69981c152"
  },
  "kernelspec": {
   "display_name": "Python 3 (ipykernel)",
   "language": "python",
   "name": "python3"
  },
  "language_info": {
   "codemirror_mode": {
    "name": "ipython",
    "version": 3
   },
   "file_extension": ".py",
   "mimetype": "text/x-python",
   "name": "python",
   "nbconvert_exporter": "python",
   "pygments_lexer": "ipython3",
   "version": "3.10.0"
  },
  "papermill": {
   "default_parameters": {},
   "duration": 4.684717,
   "end_time": "2022-03-03T10:16:08.189622",
   "environment_variables": {},
   "exception": null,
   "input_path": "EDA_exercise.ipynb",
   "output_path": "EDA_exercise.ipynb",
   "parameters": {},
   "start_time": "2022-03-03T10:16:03.504905",
   "version": "2.3.4"
  }
 },
 "nbformat": 4,
 "nbformat_minor": 5
}
